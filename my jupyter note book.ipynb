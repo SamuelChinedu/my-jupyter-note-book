{
 "cells": [
  {
   "cell_type": "markdown",
   "id": "f86dd9af",
   "metadata": {},
   "source": [
    "<h1>My jupyter Notebook on IBM watson studio</h1>"
   ]
  },
  {
   "cell_type": "markdown",
   "id": "91a97e69",
   "metadata": {},
   "source": [
    "<h2>Name: Nwabueze Samuel Chinedu </h2>\n"
   ]
  },
  {
   "cell_type": "markdown",
   "id": "9c487864",
   "metadata": {},
   "source": [
    "<p> I am a student </p>"
   ]
  },
  {
   "cell_type": "markdown",
   "id": "20c10102",
   "metadata": {},
   "source": [
    "<i>I am interseted in data science because i hope to use it to make make impact in the world <i>"
   ]
  },
  {
   "cell_type": "markdown",
   "id": "0b02e9c9",
   "metadata": {},
   "source": [
    "<h3>my code in cell5 five is going to show to to calcute 1+33</h3>"
   ]
  },
  {
   "cell_type": "code",
   "execution_count": 2,
   "id": "dabaa473",
   "metadata": {},
   "outputs": [
    {
     "name": "stdout",
     "output_type": "stream",
     "text": [
      "34\n"
     ]
    }
   ],
   "source": [
    "print(1+33)"
   ]
  },
  {
   "cell_type": "code",
   "execution_count": null,
   "id": "8a480ec6",
   "metadata": {},
   "outputs": [],
   "source": []
  }
 ],
 "metadata": {
  "kernelspec": {
   "display_name": "Python 3 (ipykernel)",
   "language": "python",
   "name": "python3"
  },
  "language_info": {
   "codemirror_mode": {
    "name": "ipython",
    "version": 3
   },
   "file_extension": ".py",
   "mimetype": "text/x-python",
   "name": "python",
   "nbconvert_exporter": "python",
   "pygments_lexer": "ipython3",
   "version": "3.9.12"
  }
 },
 "nbformat": 4,
 "nbformat_minor": 5
}
